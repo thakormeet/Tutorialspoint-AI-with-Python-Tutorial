{
 "cells": [
  {
   "cell_type": "markdown",
   "id": "6c2d4ba3",
   "metadata": {},
   "source": [
    "# Step 1 − Import Scikit-learn"
   ]
  },
  {
   "cell_type": "code",
   "execution_count": 2,
   "id": "927c53d0",
   "metadata": {},
   "outputs": [],
   "source": [
    "import sklearn"
   ]
  },
  {
   "cell_type": "markdown",
   "id": "143e1a38",
   "metadata": {},
   "source": [
    "# write below written code if you haven't installed scikit-learn or you are using conda"
   ]
  },
  {
   "cell_type": "code",
   "execution_count": 5,
   "id": "07ccb3bc",
   "metadata": {},
   "outputs": [
    {
     "name": "stdout",
     "output_type": "stream",
     "text": [
      "Requirement already satisfied: scikit-learn in c:\\users\\91997\\anaconda3\\lib\\site-packages (1.2.1)\n",
      "Requirement already satisfied: joblib>=1.1.1 in c:\\users\\91997\\anaconda3\\lib\\site-packages (from scikit-learn) (1.1.1)\n",
      "Requirement already satisfied: scipy>=1.3.2 in c:\\users\\91997\\anaconda3\\lib\\site-packages (from scikit-learn) (1.10.0)\n",
      "Requirement already satisfied: numpy>=1.17.3 in c:\\users\\91997\\anaconda3\\lib\\site-packages (from scikit-learn) (1.23.5)\n",
      "Requirement already satisfied: threadpoolctl>=2.0.0 in c:\\users\\91997\\anaconda3\\lib\\site-packages (from scikit-learn) (2.2.0)\n",
      "Note: you may need to restart the kernel to use updated packages.\n"
     ]
    }
   ],
   "source": [
    "pip install scikit-learn\n"
   ]
  },
  {
   "cell_type": "markdown",
   "id": "952aded6",
   "metadata": {},
   "source": [
    "# Step 2 − Import Scikit-learn’s dataset"
   ]
  },
  {
   "cell_type": "code",
   "execution_count": 7,
   "id": "0948bf07",
   "metadata": {},
   "outputs": [],
   "source": [
    "from sklearn.datasets import load_breast_cancer\n",
    "data = load_breast_cancer()"
   ]
  },
  {
   "cell_type": "code",
   "execution_count": 8,
   "id": "bf6607d4",
   "metadata": {},
   "outputs": [],
   "source": [
    "label_names = data['target_names']\n",
    "labels = data['target']\n",
    "feature_names = data['feature_names']\n",
    "features = data['data']"
   ]
  },
  {
   "cell_type": "code",
   "execution_count": 9,
   "id": "7fea5da4",
   "metadata": {},
   "outputs": [
    {
     "name": "stdout",
     "output_type": "stream",
     "text": [
      "['malignant' 'benign']\n"
     ]
    }
   ],
   "source": [
    "print(label_names)"
   ]
  },
  {
   "cell_type": "code",
   "execution_count": 10,
   "id": "98562735",
   "metadata": {},
   "outputs": [
    {
     "name": "stdout",
     "output_type": "stream",
     "text": [
      "0\n"
     ]
    }
   ],
   "source": [
    "print(labels[0])"
   ]
  },
  {
   "cell_type": "code",
   "execution_count": 12,
   "id": "894cf0fd",
   "metadata": {},
   "outputs": [
    {
     "name": "stdout",
     "output_type": "stream",
     "text": [
      "mean radius\n"
     ]
    }
   ],
   "source": [
    "print(feature_names[0])"
   ]
  },
  {
   "cell_type": "code",
   "execution_count": 13,
   "id": "a48b149c",
   "metadata": {},
   "outputs": [
    {
     "name": "stdout",
     "output_type": "stream",
     "text": [
      "[1.799e+01 1.038e+01 1.228e+02 1.001e+03 1.184e-01 2.776e-01 3.001e-01\n",
      " 1.471e-01 2.419e-01 7.871e-02 1.095e+00 9.053e-01 8.589e+00 1.534e+02\n",
      " 6.399e-03 4.904e-02 5.373e-02 1.587e-02 3.003e-02 6.193e-03 2.538e+01\n",
      " 1.733e+01 1.846e+02 2.019e+03 1.622e-01 6.656e-01 7.119e-01 2.654e-01\n",
      " 4.601e-01 1.189e-01]\n"
     ]
    }
   ],
   "source": [
    "print(features[0])"
   ]
  },
  {
   "cell_type": "markdown",
   "id": "fdd608be",
   "metadata": {},
   "source": [
    "# Step 3 − Organizing data into sets"
   ]
  },
  {
   "cell_type": "code",
   "execution_count": 14,
   "id": "9db44499",
   "metadata": {},
   "outputs": [],
   "source": [
    "from sklearn.model_selection import train_test_split"
   ]
  },
  {
   "cell_type": "code",
   "execution_count": 15,
   "id": "ef041b51",
   "metadata": {},
   "outputs": [],
   "source": [
    "train, test, train_labels, test_labels = train_test_split(features,labels,test_size = 0.40, random_state = 42)"
   ]
  },
  {
   "cell_type": "markdown",
   "id": "aab14c24",
   "metadata": {},
   "source": [
    "# Step 4 − Building the model"
   ]
  },
  {
   "cell_type": "code",
   "execution_count": 16,
   "id": "32ada68f",
   "metadata": {},
   "outputs": [],
   "source": [
    "from sklearn.naive_bayes import GaussianNB"
   ]
  },
  {
   "cell_type": "code",
   "execution_count": 17,
   "id": "e4ba0aa3",
   "metadata": {},
   "outputs": [],
   "source": [
    "gnb = GaussianNB()"
   ]
  },
  {
   "cell_type": "code",
   "execution_count": 18,
   "id": "f703765b",
   "metadata": {},
   "outputs": [],
   "source": [
    "model = gnb.fit(train, train_labels)"
   ]
  },
  {
   "cell_type": "code",
   "execution_count": 19,
   "id": "7dc90553",
   "metadata": {},
   "outputs": [
    {
     "name": "stdout",
     "output_type": "stream",
     "text": [
      "[1 0 0 1 1 0 0 0 1 1 1 0 1 0 1 0 1 1 1 0 1 1 0 1 1 1 1 1 1 0 1 1 1 1 1 1 0\n",
      " 1 0 1 1 0 1 1 1 1 1 1 1 1 0 0 1 1 1 1 1 0 0 1 1 0 0 1 1 1 0 0 1 1 0 0 1 0\n",
      " 1 1 1 1 1 1 0 1 1 0 0 0 0 0 1 1 1 1 1 1 1 1 0 0 1 0 0 1 0 0 1 1 1 0 1 1 0\n",
      " 1 1 0 0 0 1 1 1 0 0 1 1 0 1 0 0 1 1 0 0 0 1 1 1 0 1 1 0 0 1 0 1 1 0 1 0 0\n",
      " 1 1 1 1 1 1 1 0 0 1 1 1 1 1 1 1 1 1 1 1 1 0 1 1 1 0 1 1 0 1 1 1 1 1 1 0 0\n",
      " 0 1 1 0 1 0 1 1 1 1 0 1 1 0 1 1 1 0 1 0 0 1 1 1 1 1 1 1 1 0 1 1 1 1 1 0 1\n",
      " 0 0 1 1 0 1]\n"
     ]
    }
   ],
   "source": [
    "preds = gnb.predict(test)\n",
    "print(preds)"
   ]
  },
  {
   "cell_type": "code",
   "execution_count": 20,
   "id": "ff703a29",
   "metadata": {},
   "outputs": [
    {
     "name": "stdout",
     "output_type": "stream",
     "text": [
      "0.9517543859649122\n"
     ]
    }
   ],
   "source": [
    "from sklearn.metrics import accuracy_score\n",
    "print(accuracy_score(test_labels,preds))"
   ]
  },
  {
   "cell_type": "markdown",
   "id": "172b73e1",
   "metadata": {},
   "source": [
    "# the above processes is the same processes used to make Naive Bayes Classifier"
   ]
  },
  {
   "cell_type": "code",
   "execution_count": null,
   "id": "8836cf76",
   "metadata": {},
   "outputs": [],
   "source": []
  },
  {
   "cell_type": "markdown",
   "id": "f4a53ae8",
   "metadata": {},
   "source": [
    "# Support Vector Machines (SVM)"
   ]
  },
  {
   "cell_type": "code",
   "execution_count": 22,
   "id": "eca51ef8",
   "metadata": {},
   "outputs": [],
   "source": [
    "from sklearn.svm import SVC"
   ]
  },
  {
   "cell_type": "code",
   "execution_count": 23,
   "id": "19b5b75f",
   "metadata": {},
   "outputs": [],
   "source": [
    "import pandas as pd\n",
    "import numpy as np\n",
    "from sklearn import svm,datasets\n",
    "import matplotlib.pyplot as plt"
   ]
  },
  {
   "cell_type": "code",
   "execution_count": 24,
   "id": "551ed898",
   "metadata": {},
   "outputs": [],
   "source": [
    "iris = datasets.load_iris()"
   ]
  },
  {
   "cell_type": "code",
   "execution_count": 30,
   "id": "712eb510",
   "metadata": {},
   "outputs": [],
   "source": [
    "X = iris.data[:,:2]\n",
    "y = iris.target"
   ]
  },
  {
   "cell_type": "code",
   "execution_count": 31,
   "id": "b6431251",
   "metadata": {},
   "outputs": [],
   "source": [
    "x_min, x_max = X[:,0].min() - 1,X[:,0].max() + 1\n",
    "y_min, y_max = X[:,1].min() - 1,X[:,1].max() + 1\n",
    "h = (x_max / x_min)/100\n",
    "xx, yy = np.meshgrid(np.arange(x_min, x_max,h),np.arange(y_min,y_max,h))\n",
    "X_plot = np.c_[xx.ravel(),yy.ravel()]"
   ]
  },
  {
   "cell_type": "code",
   "execution_count": 32,
   "id": "8e1377f6",
   "metadata": {},
   "outputs": [],
   "source": [
    "C = 1.0"
   ]
  },
  {
   "cell_type": "code",
   "execution_count": 33,
   "id": "6db175d0",
   "metadata": {},
   "outputs": [
    {
     "name": "stderr",
     "output_type": "stream",
     "text": [
      "C:\\Users\\91997\\AppData\\Local\\Temp\\ipykernel_21576\\3810361456.py:6: UserWarning: The following kwargs were not used by contour: 'aplha'\n",
      "  plt.contourf(xx,yy,Z,cmap = plt.cm.tab10,aplha = 0.3)\n"
     ]
    },
    {
     "data": {
      "text/plain": [
       "Text(0.5, 1.0, 'svc with linear kernel')"
      ]
     },
     "execution_count": 33,
     "metadata": {},
     "output_type": "execute_result"
    },
    {
     "data": {
      "image/png": "[encoded data removed]",
      "text/plain": [
       "<Figure size 1500x500 with 1 Axes>"
      ]
     },
     "metadata": {},
     "output_type": "display_data"
    }
   ],
   "source": [
    "svc_classifier = svm.SVC(kernel='linear',C=C,decision_function_shape='ovr').fit(X,y)\n",
    "Z=svc_classifier.predict(X_plot)\n",
    "Z = Z.reshape(xx.shape)\n",
    "plt.figure(figsize = (15,5))\n",
    "plt.subplot(121)\n",
    "plt.contourf(xx,yy,Z,cmap = plt.cm.tab10,aplha = 0.3)\n",
    "plt.scatter(X[:,0],X[:,1],c=y,cmap=plt.cm.Set1)\n",
    "plt.xlabel('Sepal lenght')\n",
    "plt.ylabel('Sepal width')\n",
    "plt.xlim(xx.min(),xx.max())\n",
    "plt.title('svc with linear kernel')"
   ]
  },
  {
   "cell_type": "markdown",
   "id": "73ff9865",
   "metadata": {},
   "source": [
    "# Logistic Regression"
   ]
  },
  {
   "cell_type": "markdown",
   "id": "5ef1eb08",
   "metadata": {},
   "source": [
    "# Prerequisites"
   ]
  },
  {
   "cell_type": "code",
   "execution_count": 1,
   "id": "8ae99a2c",
   "metadata": {},
   "outputs": [
    {
     "name": "stdout",
     "output_type": "stream",
     "text": [
      "Requirement already satisfied: tk in c:\\users\\91997\\anaconda3\\lib\\site-packages (0.1.0)\n",
      "Note: you may need to restart the kernel to use updated packages.\n"
     ]
    }
   ],
   "source": [
    "pip install tk"
   ]
  },
  {
   "cell_type": "code",
   "execution_count": 89,
   "id": "d75f5f04",
   "metadata": {},
   "outputs": [],
   "source": [
    "import numpy as np\n",
    "from sklearn import linear_model\n",
    "import matplotlib.pyplot as plt\n"
   ]
  },
  {
   "cell_type": "code",
   "execution_count": 90,
   "id": "c95194d1",
   "metadata": {},
   "outputs": [],
   "source": [
    "X = np.array([[2, 4.8], [2.9, 4.7], [2.5, 5], [3.2, 5.5], [6, 5], [7.6, 4],\n",
    "              [3.2, 0.9], [2.9, 1.9],[2.4, 3.5], [0.5, 3.4], [1, 4], [0.9, 5.9]])\n",
    "y = np.array([0, 0, 0, 1, 1, 1, 2, 2, 2, 3, 3, 3])"
   ]
  },
  {
   "cell_type": "code",
   "execution_count": 91,
   "id": "846e613c",
   "metadata": {},
   "outputs": [],
   "source": [
    "Classifier_LR = linear_model.LogisticRegression(solver = 'liblinear', C = 75)\n"
   ]
  },
  {
   "cell_type": "code",
   "execution_count": 92,
   "id": "b22f5335",
   "metadata": {},
   "outputs": [
    {
     "data": {
      "text/html": [
       "<style>#sk-container-id-8 {color: black;background-color: white;}#sk-container-id-8 pre{padding: 0;}#sk-container-id-8 div.sk-toggleable {background-color: white;}#sk-container-id-8 label.sk-toggleable__label {cursor: pointer;display: block;width: 100%;margin-bottom: 0;padding: 0.3em;box-sizing: border-box;text-align: center;}#sk-container-id-8 label.sk-toggleable__label-arrow:before {content: \"▸\";float: left;margin-right: 0.25em;color: #696969;}#sk-container-id-8 label.sk-toggleable__label-arrow:hover:before {color: black;}#sk-container-id-8 div.sk-estimator:hover label.sk-toggleable__label-arrow:before {color: black;}#sk-container-id-8 div.sk-toggleable__content {max-height: 0;max-width: 0;overflow: hidden;text-align: left;background-color: #f0f8ff;}#sk-container-id-8 div.sk-toggleable__content pre {margin: 0.2em;color: black;border-radius: 0.25em;background-color: #f0f8ff;}#sk-container-id-8 input.sk-toggleable__control:checked~div.sk-toggleable__content {max-height: 200px;max-width: 100%;overflow: auto;}#sk-container-id-8 input.sk-toggleable__control:checked~label.sk-toggleable__label-arrow:before {content: \"▾\";}#sk-container-id-8 div.sk-estimator input.sk-toggleable__control:checked~label.sk-toggleable__label {background-color: #d4ebff;}#sk-container-id-8 div.sk-label input.sk-toggleable__control:checked~label.sk-toggleable__label {background-color: #d4ebff;}#sk-container-id-8 input.sk-hidden--visually {border: 0;clip: rect(1px 1px 1px 1px);clip: rect(1px, 1px, 1px, 1px);height: 1px;margin: -1px;overflow: hidden;padding: 0;position: absolute;width: 1px;}#sk-container-id-8 div.sk-estimator {font-family: monospace;background-color: #f0f8ff;border: 1px dotted black;border-radius: 0.25em;box-sizing: border-box;margin-bottom: 0.5em;}#sk-container-id-8 div.sk-estimator:hover {background-color: #d4ebff;}#sk-container-id-8 div.sk-parallel-item::after {content: \"\";width: 100%;border-bottom: 1px solid gray;flex-grow: 1;}#sk-container-id-8 div.sk-label:hover label.sk-toggleable__label {background-color: #d4ebff;}#sk-container-id-8 div.sk-serial::before {content: \"\";position: absolute;border-left: 1px solid gray;box-sizing: border-box;top: 0;bottom: 0;left: 50%;z-index: 0;}#sk-container-id-8 div.sk-serial {display: flex;flex-direction: column;align-items: center;background-color: white;padding-right: 0.2em;padding-left: 0.2em;position: relative;}#sk-container-id-8 div.sk-item {position: relative;z-index: 1;}#sk-container-id-8 div.sk-parallel {display: flex;align-items: stretch;justify-content: center;background-color: white;position: relative;}#sk-container-id-8 div.sk-item::before, #sk-container-id-8 div.sk-parallel-item::before {content: \"\";position: absolute;border-left: 1px solid gray;box-sizing: border-box;top: 0;bottom: 0;left: 50%;z-index: -1;}#sk-container-id-8 div.sk-parallel-item {display: flex;flex-direction: column;z-index: 1;position: relative;background-color: white;}#sk-container-id-8 div.sk-parallel-item:first-child::after {align-self: flex-end;width: 50%;}#sk-container-id-8 div.sk-parallel-item:last-child::after {align-self: flex-start;width: 50%;}#sk-container-id-8 div.sk-parallel-item:only-child::after {width: 0;}#sk-container-id-8 div.sk-dashed-wrapped {border: 1px dashed gray;margin: 0 0.4em 0.5em 0.4em;box-sizing: border-box;padding-bottom: 0.4em;background-color: white;}#sk-container-id-8 div.sk-label label {font-family: monospace;font-weight: bold;display: inline-block;line-height: 1.2em;}#sk-container-id-8 div.sk-label-container {text-align: center;}#sk-container-id-8 div.sk-container {/* jupyter's `normalize.less` sets `[hidden] { display: none; }` but bootstrap.min.css set `[hidden] { display: none !important; }` so we also need the `!important` here to be able to override the default hidden behavior on the sphinx rendered scikit-learn.org. See: https://github.com/scikit-learn/scikit-learn/issues/21755 */display: inline-block !important;position: relative;}#sk-container-id-8 div.sk-text-repr-fallback {display: none;}</style><div id=\"sk-container-id-8\" class=\"sk-top-container\"><div class=\"sk-text-repr-fallback\"><pre>LogisticRegression(C=75, solver=&#x27;liblinear&#x27;)</pre><b>In a Jupyter environment, please rerun this cell to show the HTML representation or trust the notebook. <br />On GitHub, the HTML representation is unable to render, please try loading this page with nbviewer.org.</b></div><div class=\"sk-container\" hidden><div class=\"sk-item\"><div class=\"sk-estimator sk-toggleable\"><input class=\"sk-toggleable__control sk-hidden--visually\" id=\"sk-estimator-id-8\" type=\"checkbox\" checked><label for=\"sk-estimator-id-8\" class=\"sk-toggleable__label sk-toggleable__label-arrow\">LogisticRegression</label><div class=\"sk-toggleable__content\"><pre>LogisticRegression(C=75, solver=&#x27;liblinear&#x27;)</pre></div></div></div></div></div>"
      ],
      "text/plain": [
       "LogisticRegression(C=75, solver='liblinear')"
      ]
     },
     "execution_count": 92,
     "metadata": {},
     "output_type": "execute_result"
    }
   ],
   "source": [
    "Classifier_LR.fit(X, y)\n"
   ]
  },
  {
   "cell_type": "code",
   "execution_count": 93,
   "id": "283e6af4",
   "metadata": {},
   "outputs": [
    {
     "data": {
      "application/javascript": [
       "/* Put everything inside the global mpl namespace */\n",
       "/* global mpl */\n",
       "window.mpl = {};\n",
       "\n",
       "mpl.get_websocket_type = function () {\n",
       "    if (typeof WebSocket !== 'undefined') {\n",
       "        return WebSocket;\n",
       "    } else if (typeof MozWebSocket !== 'undefined') {\n",
       "        return MozWebSocket;\n",
       "    } else {\n",
       "        alert(\n",
       "            'Your browser does not have WebSocket support. ' +\n",
       "                'Please try Chrome, Safari or Firefox ≥ 6. ' +\n",
       "                'Firefox 4 and 5 are also supported but you ' +\n",
       "                'have to enable WebSockets in about:config.'\n",
       "        );\n",
       "    }\n",
       "};\n",
       "\n",
       "mpl.figure = function (figure_id, websocket, ondownload, parent_element) {\n",
       "    this.id = figure_id;\n",
       "\n",
       "    this.ws = websocket;\n",
       "\n",
       "    this.supports_binary = this.ws.binaryType !== undefined;\n",
       "\n",
       "    if (!this.supports_binary) {\n",
       "        var warnings = document.getElementById('mpl-warnings');\n",
       "        if (warnings) {\n",
       "            warnings.style.display = 'block';\n",
       "            warnings.textContent =\n",
       "                'This browser does not support binary websocket messages. ' +\n",
       "                'Performance may be slow.';\n",
       "        }\n",
       "    }\n",
       "\n",
       "    this.imageObj = new Image();\n",
       "\n",
       "    this.context = undefined;\n",
       "    this.message = undefined;\n",
       "    this.canvas = undefined;\n",
       "    this.rubberband_canvas = undefined;\n",
       "    this.rubberband_context = undefined;\n",
       "    this.format_dropdown = undefined;\n",
       "\n",
       "    this.image_mode = 'full';\n",
       "\n",
       "    this.root = document.createElement('div');\n",
       "    this.root.setAttribute('style', 'display: inline-block');\n",
       "    this._root_extra_style(this.root);\n",
       "\n",
       "    parent_element.appendChild(this.root);\n",
       "\n",
       "    this._init_header(this);\n",
       "    this._init_canvas(this);\n",
       "    this._init_toolbar(this);\n",
       "\n",
       "    var fig = this;\n",
       "\n",
       "    this.waiting = false;\n",
       "\n",
       "    this.ws.onopen = function () {\n",
       "        fig.send_message('supports_binary', { value: fig.supports_binary });\n",
       "        fig.send_message('send_image_mode', {});\n",
       "        if (fig.ratio !== 1) {\n",
       "            fig.send_message('set_device_pixel_ratio', {\n",
       "                device_pixel_ratio: fig.ratio,\n",
       "            });\n",
       "        }\n",
       "        fig.send_message('refresh', {});\n",
       "    };\n",
       "\n",
       "    this.imageObj.onload = function () {\n",
       "        if (fig.image_mode === 'full') {\n",
       "            // Full images could contain transparency (where diff images\n",
       "            // almost always do), so we need to clear the canvas so that\n",
       "            // there is no ghosting.\n",
       "            fig.context.clearRect(0, 0, fig.canvas.width, fig.canvas.height);\n",
       "        }\n",
       "        fig.context.drawImage(fig.imageObj, 0, 0);\n",
       "    };\n",
       "\n",
       "    this.imageObj.onunload = function () {\n",
       "        fig.ws.close();\n",
       "    };\n",
       "\n",
       "    this.ws.onmessage = this._make_on_message_function(this);\n",
       "\n",
       "    this.ondownload = ondownload;\n",
       "};\n",
       "\n",
       "mpl.figure.prototype._init_header = function () {\n",
       "    var titlebar = document.createElement('div');\n",
       "    titlebar.classList =\n",
       "        'ui-dialog-titlebar ui-widget-header ui-corner-all ui-helper-clearfix';\n",
       "    var titletext = document.createElement('div');\n",
       "    titletext.classList = 'ui-dialog-title';\n",
       "    titletext.setAttribute(\n",
       "        'style',\n",
       "        'width: 100%; text-align: center; padding: 3px;'\n",
       "    );\n",
       "    titlebar.appendChild(titletext);\n",
       "    this.root.appendChild(titlebar);\n",
       "    this.header = titletext;\n",
       "};\n",
       "\n",
       "mpl.figure.prototype._canvas_extra_style = function (_canvas_div) {};\n",
       "\n",
       "mpl.figure.prototype._root_extra_style = function (_canvas_div) {};\n",
       "\n",
       "mpl.figure.prototype._init_canvas = function () {\n",
       "    var fig = this;\n",
       "\n",
       "    var canvas_div = (this.canvas_div = document.createElement('div'));\n",
       "    canvas_div.setAttribute('tabindex', '0');\n",
       "    canvas_div.setAttribute(\n",
       "        'style',\n",
       "        'border: 1px solid #ddd;' +\n",
       "            'box-sizing: content-box;' +\n",
       "            'clear: both;' +\n",
       "            'min-height: 1px;' +\n",
       "            'min-width: 1px;' +\n",
       "            'outline: 0;' +\n",
       "            'overflow: hidden;' +\n",
       "            'position: relative;' +\n",
       "            'resize: both;' +\n",
       "            'z-index: 2;'\n",
       "    );\n",
       "\n",
       "    function on_keyboard_event_closure(name) {\n",
       "        return function (event) {\n",
       "            return fig.key_event(event, name);\n",
       "        };\n",
       "    }\n",
       "\n",
       "    canvas_div.addEventListener(\n",
       "        'keydown',\n",
       "        on_keyboard_event_closure('key_press')\n",
       "    );\n",
       "    canvas_div.addEventListener(\n",
       "        'keyup',\n",
       "        on_keyboard_event_closure('key_release')\n",
       "    );\n",
       "\n",
       "    this._canvas_extra_style(canvas_div);\n",
       "    this.root.appendChild(canvas_div);\n",
       "\n",
       "    var canvas = (this.canvas = document.createElement('canvas'));\n",
       "    canvas.classList.add('mpl-canvas');\n",
       "    canvas.setAttribute(\n",
       "        'style',\n",
       "        'box-sizing: content-box;' +\n",
       "            'pointer-events: none;' +\n",
       "            'position: relative;' +\n",
       "            'z-index: 0;'\n",
       "    );\n",
       "\n",
       "    this.context = canvas.getContext('2d');\n",
       "\n",
       "    var backingStore =\n",
       "        this.context.backingStorePixelRatio ||\n",
       "        this.context.webkitBackingStorePixelRatio ||\n",
       "        this.context.mozBackingStorePixelRatio ||\n",
       "        this.context.msBackingStorePixelRatio ||\n",
       "        this.context.oBackingStorePixelRatio ||\n",
       "        this.context.backingStorePixelRatio ||\n",
       "        1;\n",
       "\n",
       "    this.ratio = (window.devicePixelRatio || 1) / backingStore;\n",
       "\n",
       "    var rubberband_canvas = (this.rubberband_canvas = document.createElement(\n",
       "        'canvas'\n",
       "    ));\n",
       "    rubberband_canvas.setAttribute(\n",
       "        'style',\n",
       "        'box-sizing: content-box;' +\n",
       "            'left: 0;' +\n",
       "            'pointer-events: none;' +\n",
       "            'position: absolute;' +\n",
       "            'top: 0;' +\n",
       "            'z-index: 1;'\n",
       "    );\n",
       "\n",
       "    // Apply a ponyfill if ResizeObserver is not implemented by browser.\n",
       "    if (this.ResizeObserver === undefined) {\n",
       "        if (window.ResizeObserver !== undefined) {\n",
       "            this.ResizeObserver = window.ResizeObserver;\n",
       "        } else {\n",
       "            var obs = _JSXTOOLS_RESIZE_OBSERVER({});\n",
       "            this.ResizeObserver = obs.ResizeObserver;\n",
       "        }\n",
       "    }\n",
       "\n",
       "    this.resizeObserverInstance = new this.ResizeObserver(function (entries) {\n",
       "        var nentries = entries.length;\n",
       "        for (var i = 0; i < nentries; i++) {\n",
       "            var entry = entries[i];\n",
       "            var width, height;\n",
       "            if (entry.contentBoxSize) {\n",
       "                if (entry.contentBoxSize instanceof Array) {\n",
       "                    // Chrome 84 implements new version of spec.\n",
       "                    width = entry.contentBoxSize[0].inlineSize;\n",
       "                    height = entry.contentBoxSize[0].blockSize;\n",
       "                } else {\n",
       "                    // Firefox implements old version of spec.\n",
       "                    width = entry.contentBoxSize.inlineSize;\n",
       "                    height = entry.contentBoxSize.blockSize;\n",
       "                }\n",
       "            } else {\n",
       "                // Chrome <84 implements even older version of spec.\n",
       "                width = entry.contentRect.width;\n",
       "                height = entry.contentRect.height;\n",
       "            }\n",
       "\n",
       "            // Keep the size of the canvas and rubber band canvas in sync with\n",
       "            // the canvas container.\n",
       "            if (entry.devicePixelContentBoxSize) {\n",
       "                // Chrome 84 implements new version of spec.\n",
       "                canvas.setAttribute(\n",
       "                    'width',\n",
       "                    entry.devicePixelContentBoxSize[0].inlineSize\n",
       "                );\n",
       "                canvas.setAttribute(\n",
       "                    'height',\n",
       "                    entry.devicePixelContentBoxSize[0].blockSize\n",
       "                );\n",
       "            } else {\n",
       "                canvas.setAttribute('width', width * fig.ratio);\n",
       "                canvas.setAttribute('height', height * fig.ratio);\n",
       "            }\n",
       "            /* This rescales the canvas back to display pixels, so that it\n",
       "             * appears correct on HiDPI screens. */\n",
       "            canvas.style.width = width + 'px';\n",
       "            canvas.style.height = height + 'px';\n",
       "\n",
       "            rubberband_canvas.setAttribute('width', width);\n",
       "            rubberband_canvas.setAttribute('height', height);\n",
       "\n",
       "            // And update the size in Python. We ignore the initial 0/0 size\n",
       "            // that occurs as the element is placed into the DOM, which should\n",
       "            // otherwise not happen due to the minimum size styling.\n",
       "            if (fig.ws.readyState == 1 && width != 0 && height != 0) {\n",
       "                fig.request_resize(width, height);\n",
       "            }\n",
       "        }\n",
       "    });\n",
       "    this.resizeObserverInstance.observe(canvas_div);\n",
       "\n",
       "    function on_mouse_event_closure(name) {\n",
       "        /* User Agent sniffing is bad, but WebKit is busted:\n",
       "         * https://bugs.webkit.org/show_bug.cgi?id=144526\n",
       "         * https://bugs.webkit.org/show_bug.cgi?id=181818\n",
       "         * The worst that happens here is that they get an extra browser\n",
       "         * selection when dragging, if this check fails to catch them.\n",
       "         */\n",
       "        var UA = navigator.userAgent;\n",
       "        var isWebKit = /AppleWebKit/.test(UA) && !/Chrome/.test(UA);\n",
       "        if(isWebKit) {\n",
       "            return function (event) {\n",
       "                /* This prevents the web browser from automatically changing to\n",
       "                 * the text insertion cursor when the button is pressed. We\n",
       "                 * want to control all of the cursor setting manually through\n",
       "                 * the 'cursor' event from matplotlib */\n",
       "                event.preventDefault()\n",
       "                return fig.mouse_event(event, name);\n",
       "            };\n",
       "        } else {\n",
       "            return function (event) {\n",
       "                return fig.mouse_event(event, name);\n",
       "            };\n",
       "        }\n",
       "    }\n",
       "\n",
       "    canvas_div.addEventListener(\n",
       "        'mousedown',\n",
       "        on_mouse_event_closure('button_press')\n",
       "    );\n",
       "    canvas_div.addEventListener(\n",
       "        'mouseup',\n",
       "        on_mouse_event_closure('button_release')\n",
       "    );\n",
       "    canvas_div.addEventListener(\n",
       "        'dblclick',\n",
       "        on_mouse_event_closure('dblclick')\n",
       "    );\n",
       "    // Throttle sequential mouse events to 1 every 20ms.\n",
       "    canvas_div.addEventListener(\n",
       "        'mousemove',\n",
       "        on_mouse_event_closure('motion_notify')\n",
       "    );\n",
       "\n",
       "    canvas_div.addEventListener(\n",
       "        'mouseenter',\n",
       "        on_mouse_event_closure('figure_enter')\n",
       "    );\n",
       "    canvas_div.addEventListener(\n",
       "        'mouseleave',\n",
       "        on_mouse_event_closure('figure_leave')\n",
       "    );\n",
       "\n",
       "    canvas_div.addEventListener('wheel', function (event) {\n",
       "        if (event.deltaY < 0) {\n",
       "            event.step = 1;\n",
       "        } else {\n",
       "            event.step = -1;\n",
       "        }\n",
       "        on_mouse_event_closure('scroll')(event);\n",
       "    });\n",
       "\n",
       "    canvas_div.appendChild(canvas);\n",
       "    canvas_div.appendChild(rubberband_canvas);\n",
       "\n",
       "    this.rubberband_context = rubberband_canvas.getContext('2d');\n",
       "    this.rubberband_context.strokeStyle = '#000000';\n",
       "\n",
       "    this._resize_canvas = function (width, height, forward) {\n",
       "        if (forward) {\n",
       "            canvas_div.style.width = width + 'px';\n",
       "            canvas_div.style.height = height + 'px';\n",
       "        }\n",
       "    };\n",
       "\n",
       "    // Disable right mouse context menu.\n",
       "    canvas_div.addEventListener('contextmenu', function (_e) {\n",
       "        event.preventDefault();\n",
       "        return false;\n",
       "    });\n",
       "\n",
       "    function set_focus() {\n",
       "        canvas.focus();\n",
       "        canvas_div.focus();\n",
       "    }\n",
       "\n",
       "    window.setTimeout(set_focus, 100);\n",
       "};\n",
       "\n",
       "mpl.figure.prototype._init_toolbar = function () {\n",
       "    var fig = this;\n",
       "\n",
       "    var toolbar = document.createElement('div');\n",
       "    toolbar.classList = 'mpl-toolbar';\n",
       "    this.root.appendChild(toolbar);\n",
       "\n",
       "    function on_click_closure(name) {\n",
       "        return function (_event) {\n",
       "            return fig.toolbar_button_onclick(name);\n",
       "        };\n",
       "    }\n",
       "\n",
       "    function on_mouseover_closure(tooltip) {\n",
       "        return function (event) {\n",
       "            if (!event.currentTarget.disabled) {\n",
       "                return fig.toolbar_button_onmouseover(tooltip);\n",
       "            }\n",
       "        };\n",
       "    }\n",
       "\n",
       "    fig.buttons = {};\n",
       "    var buttonGroup = document.createElement('div');\n",
       "    buttonGroup.classList = 'mpl-button-group';\n",
       "    for (var toolbar_ind in mpl.toolbar_items) {\n",
       "        var name = mpl.toolbar_items[toolbar_ind][0];\n",
       "        var tooltip = mpl.toolbar_items[toolbar_ind][1];\n",
       "        var image = mpl.toolbar_items[toolbar_ind][2];\n",
       "        var method_name = mpl.toolbar_items[toolbar_ind][3];\n",
       "\n",
       "        if (!name) {\n",
       "            /* Instead of a spacer, we start a new button group. */\n",
       "            if (buttonGroup.hasChildNodes()) {\n",
       "                toolbar.appendChild(buttonGroup);\n",
       "            }\n",
       "            buttonGroup = document.createElement('div');\n",
       "            buttonGroup.classList = 'mpl-button-group';\n",
       "            continue;\n",
       "        }\n",
       "\n",
       "        var button = (fig.buttons[name] = document.createElement('button'));\n",
       "        button.classList = 'mpl-widget';\n",
       "        button.setAttribute('role', 'button');\n",
       "        button.setAttribute('aria-disabled', 'false');\n",
       "        button.addEventListener('click', on_click_closure(method_name));\n",
       "        button.addEventListener('mouseover', on_mouseover_closure(tooltip));\n",
       "\n",
       "        var icon_img = document.createElement('img');\n",
       "        icon_img.src = '_images/' + image + '.png';\n",
       "        icon_img.srcset = '_images/' + image + '_large.png 2x';\n",
       "        icon_img.alt = tooltip;\n",
       "        button.appendChild(icon_img);\n",
       "\n",
       "        buttonGroup.appendChild(button);\n",
       "    }\n",
       "\n",
       "    if (buttonGroup.hasChildNodes()) {\n",
       "        toolbar.appendChild(buttonGroup);\n",
       "    }\n",
       "\n",
       "    var fmt_picker = document.createElement('select');\n",
       "    fmt_picker.classList = 'mpl-widget';\n",
       "    toolbar.appendChild(fmt_picker);\n",
       "    this.format_dropdown = fmt_picker;\n",
       "\n",
       "    for (var ind in mpl.extensions) {\n",
       "        var fmt = mpl.extensions[ind];\n",
       "        var option = document.createElement('option');\n",
       "        option.selected = fmt === mpl.default_extension;\n",
       "        option.innerHTML = fmt;\n",
       "        fmt_picker.appendChild(option);\n",
       "    }\n",
       "\n",
       "    var status_bar = document.createElement('span');\n",
       "    status_bar.classList = 'mpl-message';\n",
       "    toolbar.appendChild(status_bar);\n",
       "    this.message = status_bar;\n",
       "};\n",
       "\n",
       "mpl.figure.prototype.request_resize = function (x_pixels, y_pixels) {\n",
       "    // Request matplotlib to resize the figure. Matplotlib will then trigger a resize in the client,\n",
       "    // which will in turn request a refresh of the image.\n",
       "    this.send_message('resize', { width: x_pixels, height: y_pixels });\n",
       "};\n",
       "\n",
       "mpl.figure.prototype.send_message = function (type, properties) {\n",
       "    properties['type'] = type;\n",
       "    properties['figure_id'] = this.id;\n",
       "    this.ws.send(JSON.stringify(properties));\n",
       "};\n",
       "\n",
       "mpl.figure.prototype.send_draw_message = function () {\n",
       "    if (!this.waiting) {\n",
       "        this.waiting = true;\n",
       "        this.ws.send(JSON.stringify({ type: 'draw', figure_id: this.id }));\n",
       "    }\n",
       "};\n",
       "\n",
       "mpl.figure.prototype.handle_save = function (fig, _msg) {\n",
       "    var format_dropdown = fig.format_dropdown;\n",
       "    var format = format_dropdown.options[format_dropdown.selectedIndex].value;\n",
       "    fig.ondownload(fig, format);\n",
       "};\n",
       "\n",
       "mpl.figure.prototype.handle_resize = function (fig, msg) {\n",
       "    var size = msg['size'];\n",
       "    if (size[0] !== fig.canvas.width || size[1] !== fig.canvas.height) {\n",
       "        fig._resize_canvas(size[0], size[1], msg['forward']);\n",
       "        fig.send_message('refresh', {});\n",
       "    }\n",
       "};\n",
       "\n",
       "mpl.figure.prototype.handle_rubberband = function (fig, msg) {\n",
       "    var x0 = msg['x0'] / fig.ratio;\n",
       "    var y0 = (fig.canvas.height - msg['y0']) / fig.ratio;\n",
       "    var x1 = msg['x1'] / fig.ratio;\n",
       "    var y1 = (fig.canvas.height - msg['y1']) / fig.ratio;\n",
       "    x0 = Math.floor(x0) + 0.5;\n",
       "    y0 = Math.floor(y0) + 0.5;\n",
       "    x1 = Math.floor(x1) + 0.5;\n",
       "    y1 = Math.floor(y1) + 0.5;\n",
       "    var min_x = Math.min(x0, x1);\n",
       "    var min_y = Math.min(y0, y1);\n",
       "    var width = Math.abs(x1 - x0);\n",
       "    var height = Math.abs(y1 - y0);\n",
       "\n",
       "    fig.rubberband_context.clearRect(\n",
       "        0,\n",
       "        0,\n",
       "        fig.canvas.width / fig.ratio,\n",
       "        fig.canvas.height / fig.ratio\n",
       "    );\n",
       "\n",
       "    fig.rubberband_context.strokeRect(min_x, min_y, width, height);\n",
       "};\n",
       "\n",
       "mpl.figure.prototype.handle_figure_label = function (fig, msg) {\n",
       "    // Updates the figure title.\n",
       "    fig.header.textContent = msg['label'];\n",
       "};\n",
       "\n",
       "mpl.figure.prototype.handle_cursor = function (fig, msg) {\n",
       "    fig.canvas_div.style.cursor = msg['cursor'];\n",
       "};\n",
       "\n",
       "mpl.figure.prototype.handle_message = function (fig, msg) {\n",
       "    fig.message.textContent = msg['message'];\n",
       "};\n",
       "\n",
       "mpl.figure.prototype.handle_draw = function (fig, _msg) {\n",
       "    // Request the server to send over a new figure.\n",
       "    fig.send_draw_message();\n",
       "};\n",
       "\n",
       "mpl.figure.prototype.handle_image_mode = function (fig, msg) {\n",
       "    fig.image_mode = msg['mode'];\n",
       "};\n",
       "\n",
       "mpl.figure.prototype.handle_history_buttons = function (fig, msg) {\n",
       "    for (var key in msg) {\n",
       "        if (!(key in fig.buttons)) {\n",
       "            continue;\n",
       "        }\n",
       "        fig.buttons[key].disabled = !msg[key];\n",
       "        fig.buttons[key].setAttribute('aria-disabled', !msg[key]);\n",
       "    }\n",
       "};\n",
       "\n",
       "mpl.figure.prototype.handle_navigate_mode = function (fig, msg) {\n",
       "    if (msg['mode'] === 'PAN') {\n",
       "        fig.buttons['Pan'].classList.add('active');\n",
       "        fig.buttons['Zoom'].classList.remove('active');\n",
       "    } else if (msg['mode'] === 'ZOOM') {\n",
       "        fig.buttons['Pan'].classList.remove('active');\n",
       "        fig.buttons['Zoom'].classList.add('active');\n",
       "    } else {\n",
       "        fig.buttons['Pan'].classList.remove('active');\n",
       "        fig.buttons['Zoom'].classList.remove('active');\n",
       "    }\n",
       "};\n",
       "\n",
       "mpl.figure.prototype.updated_canvas_event = function () {\n",
       "    // Called whenever the canvas gets updated.\n",
       "    this.send_message('ack', {});\n",
       "};\n",
       "\n",
       "// A function to construct a web socket function for onmessage handling.\n",
       "// Called in the figure constructor.\n",
       "mpl.figure.prototype._make_on_message_function = function (fig) {\n",
       "    return function socket_on_message(evt) {\n",
       "        if (evt.data instanceof Blob) {\n",
       "            var img = evt.data;\n",
       "            if (img.type !== 'image/png') {\n",
       "                /* FIXME: We get \"Resource interpreted as Image but\n",
       "                 * transferred with MIME type text/plain:\" errors on\n",
       "                 * Chrome.  But how to set the MIME type?  It doesn't seem\n",
       "                 * to be part of the websocket stream */\n",
       "                img.type = 'image/png';\n",
       "            }\n",
       "\n",
       "            /* Free the memory for the previous frames */\n",
       "            if (fig.imageObj.src) {\n",
       "                (window.URL || window.webkitURL).revokeObjectURL(\n",
       "                    fig.imageObj.src\n",
       "                );\n",
       "            }\n",
       "\n",
       "            fig.imageObj.src = (window.URL || window.webkitURL).createObjectURL(\n",
       "                img\n",
       "            );\n",
       "            fig.updated_canvas_event();\n",
       "            fig.waiting = false;\n",
       "            return;\n",
       "        } else if (\n",
       "            typeof evt.data === 'string' &&\n",
       "            evt.data.slice(0, 21) === 'data:image/png;base64'\n",
       "        ) {\n",
       "            fig.imageObj.src = evt.data;\n",
       "            fig.updated_canvas_event();\n",
       "            fig.waiting = false;\n",
       "            return;\n",
       "        }\n",
       "\n",
       "        var msg = JSON.parse(evt.data);\n",
       "        var msg_type = msg['type'];\n",
       "\n",
       "        // Call the  \"handle_{type}\" callback, which takes\n",
       "        // the figure and JSON message as its only arguments.\n",
       "        try {\n",
       "            var callback = fig['handle_' + msg_type];\n",
       "        } catch (e) {\n",
       "            console.log(\n",
       "                \"No handler for the '\" + msg_type + \"' message type: \",\n",
       "                msg\n",
       "            );\n",
       "            return;\n",
       "        }\n",
       "\n",
       "        if (callback) {\n",
       "            try {\n",
       "                // console.log(\"Handling '\" + msg_type + \"' message: \", msg);\n",
       "                callback(fig, msg);\n",
       "            } catch (e) {\n",
       "                console.log(\n",
       "                    \"Exception inside the 'handler_\" + msg_type + \"' callback:\",\n",
       "                    e,\n",
       "                    e.stack,\n",
       "                    msg\n",
       "                );\n",
       "            }\n",
       "        }\n",
       "    };\n",
       "};\n",
       "\n",
       "function getModifiers(event) {\n",
       "    var mods = [];\n",
       "    if (event.ctrlKey) {\n",
       "        mods.push('ctrl');\n",
       "    }\n",
       "    if (event.altKey) {\n",
       "        mods.push('alt');\n",
       "    }\n",
       "    if (event.shiftKey) {\n",
       "        mods.push('shift');\n",
       "    }\n",
       "    if (event.metaKey) {\n",
       "        mods.push('meta');\n",
       "    }\n",
       "    return mods;\n",
       "}\n",
       "\n",
       "/*\n",
       " * return a copy of an object with only non-object keys\n",
       " * we need this to avoid circular references\n",
       " * https://stackoverflow.com/a/24161582/3208463\n",
       " */\n",
       "function simpleKeys(original) {\n",
       "    return Object.keys(original).reduce(function (obj, key) {\n",
       "        if (typeof original[key] !== 'object') {\n",
       "            obj[key] = original[key];\n",
       "        }\n",
       "        return obj;\n",
       "    }, {});\n",
       "}\n",
       "\n",
       "mpl.figure.prototype.mouse_event = function (event, name) {\n",
       "    if (name === 'button_press') {\n",
       "        this.canvas.focus();\n",
       "        this.canvas_div.focus();\n",
       "    }\n",
       "\n",
       "    // from https://stackoverflow.com/q/1114465\n",
       "    var boundingRect = this.canvas.getBoundingClientRect();\n",
       "    var x = (event.clientX - boundingRect.left) * this.ratio;\n",
       "    var y = (event.clientY - boundingRect.top) * this.ratio;\n",
       "\n",
       "    this.send_message(name, {\n",
       "        x: x,\n",
       "        y: y,\n",
       "        button: event.button,\n",
       "        step: event.step,\n",
       "        modifiers: getModifiers(event),\n",
       "        guiEvent: simpleKeys(event),\n",
       "    });\n",
       "\n",
       "    return false;\n",
       "};\n",
       "\n",
       "mpl.figure.prototype._key_event_extra = function (_event, _name) {\n",
       "    // Handle any extra behaviour associated with a key event\n",
       "};\n",
       "\n",
       "mpl.figure.prototype.key_event = function (event, name) {\n",
       "    // Prevent repeat events\n",
       "    if (name === 'key_press') {\n",
       "        if (event.key === this._key) {\n",
       "            return;\n",
       "        } else {\n",
       "            this._key = event.key;\n",
       "        }\n",
       "    }\n",
       "    if (name === 'key_release') {\n",
       "        this._key = null;\n",
       "    }\n",
       "\n",
       "    var value = '';\n",
       "    if (event.ctrlKey && event.key !== 'Control') {\n",
       "        value += 'ctrl+';\n",
       "    }\n",
       "    else if (event.altKey && event.key !== 'Alt') {\n",
       "        value += 'alt+';\n",
       "    }\n",
       "    else if (event.shiftKey && event.key !== 'Shift') {\n",
       "        value += 'shift+';\n",
       "    }\n",
       "\n",
       "    value += 'k' + event.key;\n",
       "\n",
       "    this._key_event_extra(event, name);\n",
       "\n",
       "    this.send_message(name, { key: value, guiEvent: simpleKeys(event) });\n",
       "    return false;\n",
       "};\n",
       "\n",
       "mpl.figure.prototype.toolbar_button_onclick = function (name) {\n",
       "    if (name === 'download') {\n",
       "        this.handle_save(this, null);\n",
       "    } else {\n",
       "        this.send_message('toolbar_button', { name: name });\n",
       "    }\n",
       "};\n",
       "\n",
       "mpl.figure.prototype.toolbar_button_onmouseover = function (tooltip) {\n",
       "    this.message.textContent = tooltip;\n",
       "};\n",
       "\n",
       "///////////////// REMAINING CONTENT GENERATED BY embed_js.py /////////////////\n",
       "// prettier-ignore\n",
       "var _JSXTOOLS_RESIZE_OBSERVER=function(A){var t,i=new WeakMap,n=new WeakMap,a=new WeakMap,r=new WeakMap,o=new Set;function s(e){if(!(this instanceof s))throw new TypeError(\"Constructor requires 'new' operator\");i.set(this,e)}function h(){throw new TypeError(\"Function is not a constructor\")}function c(e,t,i,n){e=0 in arguments?Number(arguments[0]):0,t=1 in arguments?Number(arguments[1]):0,i=2 in arguments?Number(arguments[2]):0,n=3 in arguments?Number(arguments[3]):0,this.right=(this.x=this.left=e)+(this.width=i),this.bottom=(this.y=this.top=t)+(this.height=n),Object.freeze(this)}function d(){t=requestAnimationFrame(d);var s=new WeakMap,p=new Set;o.forEach((function(t){r.get(t).forEach((function(i){var r=t instanceof window.SVGElement,o=a.get(t),d=r?0:parseFloat(o.paddingTop),f=r?0:parseFloat(o.paddingRight),l=r?0:parseFloat(o.paddingBottom),u=r?0:parseFloat(o.paddingLeft),g=r?0:parseFloat(o.borderTopWidth),m=r?0:parseFloat(o.borderRightWidth),w=r?0:parseFloat(o.borderBottomWidth),b=u+f,F=d+l,v=(r?0:parseFloat(o.borderLeftWidth))+m,W=g+w,y=r?0:t.offsetHeight-W-t.clientHeight,E=r?0:t.offsetWidth-v-t.clientWidth,R=b+v,z=F+W,M=r?t.width:parseFloat(o.width)-R-E,O=r?t.height:parseFloat(o.height)-z-y;if(n.has(t)){var k=n.get(t);if(k[0]===M&&k[1]===O)return}n.set(t,[M,O]);var S=Object.create(h.prototype);S.target=t,S.contentRect=new c(u,d,M,O),s.has(i)||(s.set(i,[]),p.add(i)),s.get(i).push(S)}))})),p.forEach((function(e){i.get(e).call(e,s.get(e),e)}))}return s.prototype.observe=function(i){if(i instanceof window.Element){r.has(i)||(r.set(i,new Set),o.add(i),a.set(i,window.getComputedStyle(i)));var n=r.get(i);n.has(this)||n.add(this),cancelAnimationFrame(t),t=requestAnimationFrame(d)}},s.prototype.unobserve=function(i){if(i instanceof window.Element&&r.has(i)){var n=r.get(i);n.has(this)&&(n.delete(this),n.size||(r.delete(i),o.delete(i))),n.size||r.delete(i),o.size||cancelAnimationFrame(t)}},A.DOMRectReadOnly=c,A.ResizeObserver=s,A.ResizeObserverEntry=h,A}; // eslint-disable-line\n",
       "mpl.toolbar_items = [[\"Home\", \"Reset original view\", \"fa fa-home\", \"home\"], [\"Back\", \"Back to previous view\", \"fa fa-arrow-left\", \"back\"], [\"Forward\", \"Forward to next view\", \"fa fa-arrow-right\", \"forward\"], [\"\", \"\", \"\", \"\"], [\"Pan\", \"Left button pans, Right button zooms\\nx/y fixes axis, CTRL fixes aspect\", \"fa fa-arrows\", \"pan\"], [\"Zoom\", \"Zoom to rectangle\\nx/y fixes axis\", \"fa fa-square-o\", \"zoom\"], [\"\", \"\", \"\", \"\"], [\"Download\", \"Download plot\", \"fa fa-floppy-o\", \"download\"]];\n",
       "\n",
       "mpl.extensions = [\"eps\", \"jpeg\", \"pgf\", \"pdf\", \"png\", \"ps\", \"raw\", \"svg\", \"tif\", \"webp\"];\n",
       "\n",
       "mpl.default_extension = \"png\";/* global mpl */\n",
       "\n",
       "var comm_websocket_adapter = function (comm) {\n",
       "    // Create a \"websocket\"-like object which calls the given IPython comm\n",
       "    // object with the appropriate methods. Currently this is a non binary\n",
       "    // socket, so there is still some room for performance tuning.\n",
       "    var ws = {};\n",
       "\n",
       "    ws.binaryType = comm.kernel.ws.binaryType;\n",
       "    ws.readyState = comm.kernel.ws.readyState;\n",
       "    function updateReadyState(_event) {\n",
       "        if (comm.kernel.ws) {\n",
       "            ws.readyState = comm.kernel.ws.readyState;\n",
       "        } else {\n",
       "            ws.readyState = 3; // Closed state.\n",
       "        }\n",
       "    }\n",
       "    comm.kernel.ws.addEventListener('open', updateReadyState);\n",
       "    comm.kernel.ws.addEventListener('close', updateReadyState);\n",
       "    comm.kernel.ws.addEventListener('error', updateReadyState);\n",
       "\n",
       "    ws.close = function () {\n",
       "        comm.close();\n",
       "    };\n",
       "    ws.send = function (m) {\n",
       "        //console.log('sending', m);\n",
       "        comm.send(m);\n",
       "    };\n",
       "    // Register the callback with on_msg.\n",
       "    comm.on_msg(function (msg) {\n",
       "        //console.log('receiving', msg['content']['data'], msg);\n",
       "        var data = msg['content']['data'];\n",
       "        if (data['blob'] !== undefined) {\n",
       "            data = {\n",
       "                data: new Blob(msg['buffers'], { type: data['blob'] }),\n",
       "            };\n",
       "        }\n",
       "        // Pass the mpl event to the overridden (by mpl) onmessage function.\n",
       "        ws.onmessage(data);\n",
       "    });\n",
       "    return ws;\n",
       "};\n",
       "\n",
       "mpl.mpl_figure_comm = function (comm, msg) {\n",
       "    // This is the function which gets called when the mpl process\n",
       "    // starts-up an IPython Comm through the \"matplotlib\" channel.\n",
       "\n",
       "    var id = msg.content.data.id;\n",
       "    // Get hold of the div created by the display call when the Comm\n",
       "    // socket was opened in Python.\n",
       "    var element = document.getElementById(id);\n",
       "    var ws_proxy = comm_websocket_adapter(comm);\n",
       "\n",
       "    function ondownload(figure, _format) {\n",
       "        window.open(figure.canvas.toDataURL());\n",
       "    }\n",
       "\n",
       "    var fig = new mpl.figure(id, ws_proxy, ondownload, element);\n",
       "\n",
       "    // Call onopen now - mpl needs it, as it is assuming we've passed it a real\n",
       "    // web socket which is closed, not our websocket->open comm proxy.\n",
       "    ws_proxy.onopen();\n",
       "\n",
       "    fig.parent_element = element;\n",
       "    fig.cell_info = mpl.find_output_cell(\"<div id='\" + id + \"'></div>\");\n",
       "    if (!fig.cell_info) {\n",
       "        console.error('Failed to find cell for figure', id, fig);\n",
       "        return;\n",
       "    }\n",
       "    fig.cell_info[0].output_area.element.on(\n",
       "        'cleared',\n",
       "        { fig: fig },\n",
       "        fig._remove_fig_handler\n",
       "    );\n",
       "};\n",
       "\n",
       "mpl.figure.prototype.handle_close = function (fig, msg) {\n",
       "    var width = fig.canvas.width / fig.ratio;\n",
       "    fig.cell_info[0].output_area.element.off(\n",
       "        'cleared',\n",
       "        fig._remove_fig_handler\n",
       "    );\n",
       "    fig.resizeObserverInstance.unobserve(fig.canvas_div);\n",
       "\n",
       "    // Update the output cell to use the data from the current canvas.\n",
       "    fig.push_to_output();\n",
       "    var dataURL = fig.canvas.toDataURL();\n",
       "    // Re-enable the keyboard manager in IPython - without this line, in FF,\n",
       "    // the notebook keyboard shortcuts fail.\n",
       "    IPython.keyboard_manager.enable();\n",
       "    fig.parent_element.innerHTML =\n",
       "        '<img src=\"' + dataURL + '\" width=\"' + width + '\">';\n",
       "    fig.close_ws(fig, msg);\n",
       "};\n",
       "\n",
       "mpl.figure.prototype.close_ws = function (fig, msg) {\n",
       "    fig.send_message('closing', msg);\n",
       "    // fig.ws.close()\n",
       "};\n",
       "\n",
       "mpl.figure.prototype.push_to_output = function (_remove_interactive) {\n",
       "    // Turn the data on the canvas into data in the output cell.\n",
       "    var width = this.canvas.width / this.ratio;\n",
       "    var dataURL = this.canvas.toDataURL();\n",
       "    this.cell_info[1]['text/html'] =\n",
       "        '<img src=\"' + dataURL + '\" width=\"' + width + '\">';\n",
       "};\n",
       "\n",
       "mpl.figure.prototype.updated_canvas_event = function () {\n",
       "    // Tell IPython that the notebook contents must change.\n",
       "    IPython.notebook.set_dirty(true);\n",
       "    this.send_message('ack', {});\n",
       "    var fig = this;\n",
       "    // Wait a second, then push the new image to the DOM so\n",
       "    // that it is saved nicely (might be nice to debounce this).\n",
       "    setTimeout(function () {\n",
       "        fig.push_to_output();\n",
       "    }, 1000);\n",
       "};\n",
       "\n",
       "mpl.figure.prototype._init_toolbar = function () {\n",
       "    var fig = this;\n",
       "\n",
       "    var toolbar = document.createElement('div');\n",
       "    toolbar.classList = 'btn-toolbar';\n",
       "    this.root.appendChild(toolbar);\n",
       "\n",
       "    function on_click_closure(name) {\n",
       "        return function (_event) {\n",
       "            return fig.toolbar_button_onclick(name);\n",
       "        };\n",
       "    }\n",
       "\n",
       "    function on_mouseover_closure(tooltip) {\n",
       "        return function (event) {\n",
       "            if (!event.currentTarget.disabled) {\n",
       "                return fig.toolbar_button_onmouseover(tooltip);\n",
       "            }\n",
       "        };\n",
       "    }\n",
       "\n",
       "    fig.buttons = {};\n",
       "    var buttonGroup = document.createElement('div');\n",
       "    buttonGroup.classList = 'btn-group';\n",
       "    var button;\n",
       "    for (var toolbar_ind in mpl.toolbar_items) {\n",
       "        var name = mpl.toolbar_items[toolbar_ind][0];\n",
       "        var tooltip = mpl.toolbar_items[toolbar_ind][1];\n",
       "        var image = mpl.toolbar_items[toolbar_ind][2];\n",
       "        var method_name = mpl.toolbar_items[toolbar_ind][3];\n",
       "\n",
       "        if (!name) {\n",
       "            /* Instead of a spacer, we start a new button group. */\n",
       "            if (buttonGroup.hasChildNodes()) {\n",
       "                toolbar.appendChild(buttonGroup);\n",
       "            }\n",
       "            buttonGroup = document.createElement('div');\n",
       "            buttonGroup.classList = 'btn-group';\n",
       "            continue;\n",
       "        }\n",
       "\n",
       "        button = fig.buttons[name] = document.createElement('button');\n",
       "        button.classList = 'btn btn-default';\n",
       "        button.href = '#';\n",
       "        button.title = name;\n",
       "        button.innerHTML = '<i class=\"fa ' + image + ' fa-lg\"></i>';\n",
       "        button.addEventListener('click', on_click_closure(method_name));\n",
       "        button.addEventListener('mouseover', on_mouseover_closure(tooltip));\n",
       "        buttonGroup.appendChild(button);\n",
       "    }\n",
       "\n",
       "    if (buttonGroup.hasChildNodes()) {\n",
       "        toolbar.appendChild(buttonGroup);\n",
       "    }\n",
       "\n",
       "    // Add the status bar.\n",
       "    var status_bar = document.createElement('span');\n",
       "    status_bar.classList = 'mpl-message pull-right';\n",
       "    toolbar.appendChild(status_bar);\n",
       "    this.message = status_bar;\n",
       "\n",
       "    // Add the close button to the window.\n",
       "    var buttongrp = document.createElement('div');\n",
       "    buttongrp.classList = 'btn-group inline pull-right';\n",
       "    button = document.createElement('button');\n",
       "    button.classList = 'btn btn-mini btn-primary';\n",
       "    button.href = '#';\n",
       "    button.title = 'Stop Interaction';\n",
       "    button.innerHTML = '<i class=\"fa fa-power-off icon-remove icon-large\"></i>';\n",
       "    button.addEventListener('click', function (_evt) {\n",
       "        fig.handle_close(fig, {});\n",
       "    });\n",
       "    button.addEventListener(\n",
       "        'mouseover',\n",
       "        on_mouseover_closure('Stop Interaction')\n",
       "    );\n",
       "    buttongrp.appendChild(button);\n",
       "    var titlebar = this.root.querySelector('.ui-dialog-titlebar');\n",
       "    titlebar.insertBefore(buttongrp, titlebar.firstChild);\n",
       "};\n",
       "\n",
       "mpl.figure.prototype._remove_fig_handler = function (event) {\n",
       "    var fig = event.data.fig;\n",
       "    if (event.target !== this) {\n",
       "        // Ignore bubbled events from children.\n",
       "        return;\n",
       "    }\n",
       "    fig.close_ws(fig, {});\n",
       "};\n",
       "\n",
       "mpl.figure.prototype._root_extra_style = function (el) {\n",
       "    el.style.boxSizing = 'content-box'; // override notebook setting of border-box.\n",
       "};\n",
       "\n",
       "mpl.figure.prototype._canvas_extra_style = function (el) {\n",
       "    // this is important to make the div 'focusable\n",
       "    el.setAttribute('tabindex', 0);\n",
       "    // reach out to IPython and tell the keyboard manager to turn it's self\n",
       "    // off when our div gets focus\n",
       "\n",
       "    // location in version 3\n",
       "    if (IPython.notebook.keyboard_manager) {\n",
       "        IPython.notebook.keyboard_manager.register_events(el);\n",
       "    } else {\n",
       "        // location in version 2\n",
       "        IPython.keyboard_manager.register_events(el);\n",
       "    }\n",
       "};\n",
       "\n",
       "mpl.figure.prototype._key_event_extra = function (event, _name) {\n",
       "    // Check for shift+enter\n",
       "    if (event.shiftKey && event.which === 13) {\n",
       "        this.canvas_div.blur();\n",
       "        // select the cell after this one\n",
       "        var index = IPython.notebook.find_cell_index(this.cell_info[0]);\n",
       "        IPython.notebook.select(index + 1);\n",
       "    }\n",
       "};\n",
       "\n",
       "mpl.figure.prototype.handle_save = function (fig, _msg) {\n",
       "    fig.ondownload(fig, null);\n",
       "};\n",
       "\n",
       "mpl.find_output_cell = function (html_output) {\n",
       "    // Return the cell and output element which can be found *uniquely* in the notebook.\n",
       "    // Note - this is a bit hacky, but it is done because the \"notebook_saving.Notebook\"\n",
       "    // IPython event is triggered only after the cells have been serialised, which for\n",
       "    // our purposes (turning an active figure into a static one), is too late.\n",
       "    var cells = IPython.notebook.get_cells();\n",
       "    var ncells = cells.length;\n",
       "    for (var i = 0; i < ncells; i++) {\n",
       "        var cell = cells[i];\n",
       "        if (cell.cell_type === 'code') {\n",
       "            for (var j = 0; j < cell.output_area.outputs.length; j++) {\n",
       "                var data = cell.output_area.outputs[j];\n",
       "                if (data.data) {\n",
       "                    // IPython >= 3 moved mimebundle to data attribute of output\n",
       "                    data = data.data;\n",
       "                }\n",
       "                if (data['text/html'] === html_output) {\n",
       "                    return [cell, data, j];\n",
       "                }\n",
       "            }\n",
       "        }\n",
       "    }\n",
       "};\n",
       "\n",
       "// Register the function which deals with the matplotlib target/channel.\n",
       "// The kernel may be null if the page has been refreshed.\n",
       "if (IPython.notebook.kernel !== null) {\n",
       "    IPython.notebook.kernel.comm_manager.register_target(\n",
       "        'matplotlib',\n",
       "        mpl.mpl_figure_comm\n",
       "    );\n",
       "}\n"
      ],
      "text/plain": [
       "<IPython.core.display.Javascript object>"
      ]
     },
     "metadata": {},
     "output_type": "display_data"
    },
    {
     "data": {
      "text/html": [
       "<img src=\"data:image/png;base64,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\" width=\"640\">"
      ],
      "text/plain": [
       "<IPython.core.display.HTML object>"
      ]
     },
     "metadata": {},
     "output_type": "display_data"
    }
   ],
   "source": [
    "def Logistic_visualize(Classifier_LR, X, y):\n",
    "    min_x = X[:, 0].min() - 1.0\n",
    "    min_y = X[:, 1].min() - 1.0\n",
    "    max_x = X[:, 0].max() + 1.0\n",
    "    max_y = X[:, 1].max() + 1.0\n",
    "    mesh_step_size = 0.02\n",
    "    x_vals, y_vals = np.meshgrid(np.arange(min_x, max_x, mesh_step_size), np.arange(min_y, max_y, mesh_step_size))\n",
    "    xy_vals = np.c_[x_vals.ravel(), y_vals.ravel()]\n",
    "    output = Classifier_LR.predict(xy_vals)\n",
    "    output = output.reshape(x_vals.shape)\n",
    "\n",
    "    plt.figure()\n",
    "    plt.pcolormesh(x_vals, y_vals, output, cmap=plt.cm.gray)\n",
    "    plt.scatter(X[:, 0], X[:, 1], c=y, s=75, edgecolors='black', linewidth=1, cmap=plt.cm.Paired)\n",
    "    plt.xlim(x_vals.min(), x_vals.max())\n",
    "    plt.ylim(y_vals.min(), y_vals.max())\n",
    "    plt.xticks((np.arange(int(X[:, 0].min() - 1), int(X[:, 0].max() + 1), 1.0)))\n",
    "    plt.yticks((np.arange(int(X[:, 1].min() - 1), int(X[:, 1].max() + 1), 1.0)))\n",
    "    plt.show()\n",
    "\n",
    "Logistic_visualize(Classifier_LR, X, y)\n"
   ]
  },
  {
   "cell_type": "markdown",
   "id": "1f0759c2",
   "metadata": {},
   "source": [
    "# 1. If you above code didn't work that was due to not using \"%matplotlib notebook\" in jupyter notebooks as it won't show direct graph "
   ]
  },
  {
   "cell_type": "markdown",
   "id": "b93ee766",
   "metadata": {},
   "source": [
    "# 2. At last you need to add Logistic_visualize(Classifier_LR, X, y) Without this line, the function won't be called, and the plot won't be generated. The function is essentially the part of your code that produces the visualization. If you remove this line, the visual representation of the decision boundaries won't be shown, and you won't be able to see how well your logistic regression model separates the different classes in your dataset."
   ]
  },
  {
   "cell_type": "code",
   "execution_count": null,
   "id": "1683d2fc",
   "metadata": {},
   "outputs": [],
   "source": []
  },
  {
   "cell_type": "markdown",
   "id": "b4f3c5f6",
   "metadata": {},
   "source": [
    "# Decision Tree Classifier"
   ]
  },
  {
   "cell_type": "markdown",
   "id": "c47dd4af",
   "metadata": {},
   "source": [
    "# Prerequisite"
   ]
  },
  {
   "cell_type": "code",
   "execution_count": 94,
   "id": "85436da7",
   "metadata": {},
   "outputs": [
    {
     "name": "stdout",
     "output_type": "stream",
     "text": [
      "Requirement already satisfied: pydotplus in c:\\users\\91997\\anaconda3\\lib\\site-packages (2.0.2)\n",
      "Requirement already satisfied: pyparsing>=2.0.1 in c:\\users\\91997\\anaconda3\\lib\\site-packages (from pydotplus) (3.0.9)\n",
      "Note: you may need to restart the kernel to use updated packages.\n"
     ]
    }
   ],
   "source": [
    "pip install pydotplus"
   ]
  },
  {
   "cell_type": "code",
   "execution_count": 95,
   "id": "6e67b5bb",
   "metadata": {},
   "outputs": [
    {
     "name": "stdout",
     "output_type": "stream",
     "text": [
      "Requirement already satisfied: graphviz in c:\\users\\91997\\anaconda3\\lib\\site-packages (0.20.1)\n",
      "Note: you may need to restart the kernel to use updated packages.\n"
     ]
    }
   ],
   "source": [
    "pip install graphviz "
   ]
  },
  {
   "cell_type": "markdown",
   "id": "4a25ea08",
   "metadata": {},
   "source": [
    "#  If the above code isn't working than try this"
   ]
  },
  {
   "cell_type": "code",
   "execution_count": 96,
   "id": "b3d78b56",
   "metadata": {},
   "outputs": [
    {
     "name": "stdout",
     "output_type": "stream",
     "text": [
      "Collecting package metadata (current_repodata.json): ...working... done\n",
      "Solving environment: ...working... done\n",
      "\n",
      "# All requested packages already installed.\n",
      "\n",
      "\n",
      "Note: you may need to restart the kernel to use updated packages.\n"
     ]
    },
    {
     "name": "stderr",
     "output_type": "stream",
     "text": [
      "\n",
      "\n",
      "==> WARNING: A newer version of conda exists. <==\n",
      "  current version: 23.3.1\n",
      "  latest version: 23.11.0\n",
      "\n",
      "Please update conda by running\n",
      "\n",
      "    $ conda update -n base -c defaults conda\n",
      "\n",
      "Or to minimize the number of packages updated during conda update use\n",
      "\n",
      "     conda install conda=23.11.0\n",
      "\n",
      "\n"
     ]
    }
   ],
   "source": [
    "conda install graphviz"
   ]
  },
  {
   "cell_type": "markdown",
   "id": "243c0b7b",
   "metadata": {},
   "source": [
    "# As I have already downloaded the above code so its giving me a warning"
   ]
  },
  {
   "cell_type": "code",
   "execution_count": 1,
   "id": "27607c4b",
   "metadata": {},
   "outputs": [],
   "source": [
    "import pydotplus\n",
    "from sklearn import tree\n",
    "from sklearn.datasets import load_iris\n",
    "from sklearn.metrics import classification_report\n",
    "from sklearn.model_selection import train_test_split\n",
    "import collections\n"
   ]
  },
  {
   "cell_type": "code",
   "execution_count": 2,
   "id": "779ac833",
   "metadata": {},
   "outputs": [],
   "source": [
    "X = [[165,19],[175,32],[136,35],[174,65],[141,28],[176,15],[131,32],\n",
    "[166,6],[128,32],[179,10],[136,34],[186,2],[126,25],[176,28],[112,38],\n",
    "[169,9],[171,36],[116,25],[196,25]]\n",
    "\n",
    "Y = ['Man','Woman','Woman','Man','Woman','Man','Woman','Man','Woman',\n",
    "'Man','Woman','Man','Woman','Woman','Woman','Man','Woman','Woman','Man']\n",
    "data_feature_names = ['height','length of hair']\n",
    "\n",
    "X_train, X_test, Y_train, Y_test = train_test_split(X, Y, test_size=0.40, random_state=5)"
   ]
  },
  {
   "cell_type": "code",
   "execution_count": 3,
   "id": "ac5b107a",
   "metadata": {},
   "outputs": [],
   "source": [
    "clf = tree.DecisionTreeClassifier()\n",
    "clf = clf.fit(X,Y)"
   ]
  },
  {
   "cell_type": "code",
   "execution_count": 4,
   "id": "69e9f4a3",
   "metadata": {},
   "outputs": [
    {
     "name": "stdout",
     "output_type": "stream",
     "text": [
      "['Woman']\n"
     ]
    }
   ],
   "source": [
    "prediction = clf.predict([[133,37]])\n",
    "print(prediction)"
   ]
  },
  {
   "cell_type": "code",
   "execution_count": 5,
   "id": "5651f25d",
   "metadata": {},
   "outputs": [
    {
     "data": {
      "text/plain": [
       "True"
      ]
     },
     "execution_count": 5,
     "metadata": {},
     "output_type": "execute_result"
    }
   ],
   "source": [
    "dot_data = tree.export_graphviz(clf,feature_names = data_feature_names,out_file = None,filled = True,rounded = True)\n",
    "graph = pydotplus.graph_from_dot_data(dot_data)\n",
    "colors = ('orange', 'yellow')\n",
    "edges = collections.defaultdict(list)\n",
    "\n",
    "for edge in graph.get_edge_list():\n",
    "    edges[edge.get_source()].append(int(edge.get_destination()))\n",
    "\n",
    "for edge in edges: \n",
    "    edges[edge].sort()\n",
    "\n",
    "for i in range(2):dest = graph.get_node(str(edges[edge][i]))[0]\n",
    "dest.set_fillcolor(colors[i])\n",
    "graph.write_png('Decisiontree16.png')"
   ]
  },
  {
   "cell_type": "code",
   "execution_count": 11,
   "id": "d98c800b",
   "metadata": {},
   "outputs": [],
   "source": [
    "# Random Forest Classifier"
   ]
  },
  {
   "cell_type": "code",
   "execution_count": 6,
   "id": "47f61ff3",
   "metadata": {},
   "outputs": [],
   "source": [
    "from sklearn.ensemble import RandomForestClassifier\n",
    "from sklearn.model_selection import train_test_split\n",
    "from sklearn.datasets import load_breast_cancer\n",
    "cancer = load_breast_cancer()\n",
    "import matplotlib.pyplot as plt\n",
    "import numpy as np\n"
   ]
  },
  {
   "cell_type": "code",
   "execution_count": 7,
   "id": "2b08d768",
   "metadata": {},
   "outputs": [],
   "source": [
    "cancer = load_breast_cancer()\n",
    "X_train, X_test, y_train,y_test = train_test_split(cancer.data, cancer.target, random_state = 0)"
   ]
  },
  {
   "cell_type": "code",
   "execution_count": 8,
   "id": "78d76591",
   "metadata": {},
   "outputs": [
    {
     "data": {
      "text/html": [
       "<style>#sk-container-id-1 {color: black;background-color: white;}#sk-container-id-1 pre{padding: 0;}#sk-container-id-1 div.sk-toggleable {background-color: white;}#sk-container-id-1 label.sk-toggleable__label {cursor: pointer;display: block;width: 100%;margin-bottom: 0;padding: 0.3em;box-sizing: border-box;text-align: center;}#sk-container-id-1 label.sk-toggleable__label-arrow:before {content: \"▸\";float: left;margin-right: 0.25em;color: #696969;}#sk-container-id-1 label.sk-toggleable__label-arrow:hover:before {color: black;}#sk-container-id-1 div.sk-estimator:hover label.sk-toggleable__label-arrow:before {color: black;}#sk-container-id-1 div.sk-toggleable__content {max-height: 0;max-width: 0;overflow: hidden;text-align: left;background-color: #f0f8ff;}#sk-container-id-1 div.sk-toggleable__content pre {margin: 0.2em;color: black;border-radius: 0.25em;background-color: #f0f8ff;}#sk-container-id-1 input.sk-toggleable__control:checked~div.sk-toggleable__content {max-height: 200px;max-width: 100%;overflow: auto;}#sk-container-id-1 input.sk-toggleable__control:checked~label.sk-toggleable__label-arrow:before {content: \"▾\";}#sk-container-id-1 div.sk-estimator input.sk-toggleable__control:checked~label.sk-toggleable__label {background-color: #d4ebff;}#sk-container-id-1 div.sk-label input.sk-toggleable__control:checked~label.sk-toggleable__label {background-color: #d4ebff;}#sk-container-id-1 input.sk-hidden--visually {border: 0;clip: rect(1px 1px 1px 1px);clip: rect(1px, 1px, 1px, 1px);height: 1px;margin: -1px;overflow: hidden;padding: 0;position: absolute;width: 1px;}#sk-container-id-1 div.sk-estimator {font-family: monospace;background-color: #f0f8ff;border: 1px dotted black;border-radius: 0.25em;box-sizing: border-box;margin-bottom: 0.5em;}#sk-container-id-1 div.sk-estimator:hover {background-color: #d4ebff;}#sk-container-id-1 div.sk-parallel-item::after {content: \"\";width: 100%;border-bottom: 1px solid gray;flex-grow: 1;}#sk-container-id-1 div.sk-label:hover label.sk-toggleable__label {background-color: #d4ebff;}#sk-container-id-1 div.sk-serial::before {content: \"\";position: absolute;border-left: 1px solid gray;box-sizing: border-box;top: 0;bottom: 0;left: 50%;z-index: 0;}#sk-container-id-1 div.sk-serial {display: flex;flex-direction: column;align-items: center;background-color: white;padding-right: 0.2em;padding-left: 0.2em;position: relative;}#sk-container-id-1 div.sk-item {position: relative;z-index: 1;}#sk-container-id-1 div.sk-parallel {display: flex;align-items: stretch;justify-content: center;background-color: white;position: relative;}#sk-container-id-1 div.sk-item::before, #sk-container-id-1 div.sk-parallel-item::before {content: \"\";position: absolute;border-left: 1px solid gray;box-sizing: border-box;top: 0;bottom: 0;left: 50%;z-index: -1;}#sk-container-id-1 div.sk-parallel-item {display: flex;flex-direction: column;z-index: 1;position: relative;background-color: white;}#sk-container-id-1 div.sk-parallel-item:first-child::after {align-self: flex-end;width: 50%;}#sk-container-id-1 div.sk-parallel-item:last-child::after {align-self: flex-start;width: 50%;}#sk-container-id-1 div.sk-parallel-item:only-child::after {width: 0;}#sk-container-id-1 div.sk-dashed-wrapped {border: 1px dashed gray;margin: 0 0.4em 0.5em 0.4em;box-sizing: border-box;padding-bottom: 0.4em;background-color: white;}#sk-container-id-1 div.sk-label label {font-family: monospace;font-weight: bold;display: inline-block;line-height: 1.2em;}#sk-container-id-1 div.sk-label-container {text-align: center;}#sk-container-id-1 div.sk-container {/* jupyter's `normalize.less` sets `[hidden] { display: none; }` but bootstrap.min.css set `[hidden] { display: none !important; }` so we also need the `!important` here to be able to override the default hidden behavior on the sphinx rendered scikit-learn.org. See: https://github.com/scikit-learn/scikit-learn/issues/21755 */display: inline-block !important;position: relative;}#sk-container-id-1 div.sk-text-repr-fallback {display: none;}</style><div id=\"sk-container-id-1\" class=\"sk-top-container\"><div class=\"sk-text-repr-fallback\"><pre>RandomForestClassifier(n_estimators=50, random_state=0)</pre><b>In a Jupyter environment, please rerun this cell to show the HTML representation or trust the notebook. <br />On GitHub, the HTML representation is unable to render, please try loading this page with nbviewer.org.</b></div><div class=\"sk-container\" hidden><div class=\"sk-item\"><div class=\"sk-estimator sk-toggleable\"><input class=\"sk-toggleable__control sk-hidden--visually\" id=\"sk-estimator-id-1\" type=\"checkbox\" checked><label for=\"sk-estimator-id-1\" class=\"sk-toggleable__label sk-toggleable__label-arrow\">RandomForestClassifier</label><div class=\"sk-toggleable__content\"><pre>RandomForestClassifier(n_estimators=50, random_state=0)</pre></div></div></div></div></div>"
      ],
      "text/plain": [
       "RandomForestClassifier(n_estimators=50, random_state=0)"
      ]
     },
     "execution_count": 8,
     "metadata": {},
     "output_type": "execute_result"
    }
   ],
   "source": [
    "forest = RandomForestClassifier(n_estimators = 50, random_state = 0)\n",
    "forest.fit(X_train,y_train)"
   ]
  },
  {
   "cell_type": "code",
   "execution_count": 9,
   "id": "0a493617",
   "metadata": {},
   "outputs": [
    {
     "name": "stdout",
     "output_type": "stream",
     "text": [
      "Accuracy on the training subset:(:.3f) 1.0\n",
      "Accuracy on the training subset:(:.3f) 0.965034965034965\n"
     ]
    }
   ],
   "source": [
    "print('Accuracy on the training subset:(:.3f)',format(forest.score(X_train,y_train)))\n",
    "print('Accuracy on the training subset:(:.3f)',format(forest.score(X_test,y_test)))"
   ]
  },
  {
   "cell_type": "code",
   "execution_count": 10,
   "id": "7563bd95",
   "metadata": {},
   "outputs": [
    {
     "data": {
      "image/png": "[encoded data removed]",
      "text/plain": [
       "<Figure size 640x480 with 1 Axes>"
      ]
     },
     "metadata": {},
     "output_type": "display_data"
    }
   ],
   "source": [
    "n_features = cancer.data.shape[1]\n",
    "plt.barh(range(n_features),forest.feature_importances_, align='center')\n",
    "plt.yticks(np.arange(n_features),cancer.feature_names)\n",
    "plt.xlabel('Feature Importance')\n",
    "plt.ylabel('Feature')\n",
    "plt.show()"
   ]
  },
  {
   "cell_type": "code",
   "execution_count": null,
   "id": "385bc3b6",
   "metadata": {},
   "outputs": [],
   "source": []
  },
  {
   "cell_type": "code",
   "execution_count": null,
   "id": "940df59a",
   "metadata": {},
   "outputs": [],
   "source": []
  }
 ],
 "metadata": {
  "kernelspec": {
   "display_name": "Python 3 (ipykernel)",
   "language": "python",
   "name": "python3"
  },
  "language_info": {
   "codemirror_mode": {
    "name": "ipython",
    "version": 3
   },
   "file_extension": ".py",
   "mimetype": "text/x-python",
   "name": "python",
   "nbconvert_exporter": "python",
   "pygments_lexer": "ipython3",
   "version": "3.10.9"
  }
 },
 "nbformat": 4,
 "nbformat_minor": 5
}
