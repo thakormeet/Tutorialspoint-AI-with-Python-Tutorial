{
 "cells": [
  {
   "cell_type": "markdown",
   "id": "49515a2c",
   "metadata": {},
   "source": [
    "# Constraint Satisfaction Problems (CSPs)"
   ]
  },
  {
   "cell_type": "markdown",
   "id": "21c1162c",
   "metadata": {},
   "source": [
    "# solving algebric relation"
   ]
  },
  {
   "cell_type": "code",
   "execution_count": 1,
   "id": "66fd7149",
   "metadata": {},
   "outputs": [
    {
     "name": "stdout",
     "output_type": "stream",
     "text": [
      "Collecting python-constraintNote: you may need to restart the kernel to use updated packages.\n",
      "\n",
      "  Downloading python-constraint-1.4.0.tar.bz2 (18 kB)\n",
      "  Preparing metadata (setup.py): started\n",
      "  Preparing metadata (setup.py): finished with status 'done'\n",
      "Building wheels for collected packages: python-constraint\n",
      "  Building wheel for python-constraint (setup.py): started\n",
      "  Building wheel for python-constraint (setup.py): finished with status 'done'\n",
      "  Created wheel for python-constraint: filename=python_constraint-1.4.0-py2.py3-none-any.whl size=24083 sha256=6febf6f7fc4add21b22a6f3cf2efc91785ce6f458c06512042bd2160169b2256\n",
      "  Stored in directory: c:\\users\\91997\\appdata\\local\\pip\\cache\\wheels\\05\\2c\\34\\338b491d08d532bb204d2a5207da9baf0d4806619fd889b423\n",
      "Successfully built python-constraint\n",
      "Installing collected packages: python-constraint\n",
      "Successfully installed python-constraint-1.4.0\n"
     ]
    }
   ],
   "source": [
    "pip install python-constraint"
   ]
  },
  {
   "cell_type": "code",
   "execution_count": 32,
   "id": "dcb540f8",
   "metadata": {},
   "outputs": [],
   "source": [
    "from constraint import *"
   ]
  },
  {
   "cell_type": "code",
   "execution_count": 33,
   "id": "3f53184a",
   "metadata": {},
   "outputs": [],
   "source": [
    "problem = Problem()"
   ]
  },
  {
   "cell_type": "code",
   "execution_count": 34,
   "id": "86718adb",
   "metadata": {},
   "outputs": [],
   "source": [
    "problem.addVariable('a',range(100))\n",
    "problem.addVariable('b',range(100))\n",
    "#just for example you can change the range to anything, but you need to run the code from the IN 32 to get the answer"
   ]
  },
  {
   "cell_type": "code",
   "execution_count": 35,
   "id": "3c763de4",
   "metadata": {},
   "outputs": [],
   "source": [
    "problem.addConstraint(lambda a,b: a*2 == b)"
   ]
  },
  {
   "cell_type": "code",
   "execution_count": 36,
   "id": "9d3a4f14",
   "metadata": {},
   "outputs": [],
   "source": [
    "solutions = problem.getSolutions()"
   ]
  },
  {
   "cell_type": "code",
   "execution_count": 37,
   "id": "95589c22",
   "metadata": {},
   "outputs": [
    {
     "name": "stdout",
     "output_type": "stream",
     "text": [
      "[{'a': 49, 'b': 98}, {'a': 48, 'b': 96}, {'a': 47, 'b': 94}, {'a': 46, 'b': 92}, {'a': 45, 'b': 90}, {'a': 44, 'b': 88}, {'a': 43, 'b': 86}, {'a': 42, 'b': 84}, {'a': 41, 'b': 82}, {'a': 40, 'b': 80}, {'a': 39, 'b': 78}, {'a': 38, 'b': 76}, {'a': 37, 'b': 74}, {'a': 36, 'b': 72}, {'a': 35, 'b': 70}, {'a': 34, 'b': 68}, {'a': 33, 'b': 66}, {'a': 32, 'b': 64}, {'a': 31, 'b': 62}, {'a': 30, 'b': 60}, {'a': 29, 'b': 58}, {'a': 28, 'b': 56}, {'a': 27, 'b': 54}, {'a': 26, 'b': 52}, {'a': 25, 'b': 50}, {'a': 24, 'b': 48}, {'a': 23, 'b': 46}, {'a': 22, 'b': 44}, {'a': 21, 'b': 42}, {'a': 20, 'b': 40}, {'a': 19, 'b': 38}, {'a': 18, 'b': 36}, {'a': 17, 'b': 34}, {'a': 16, 'b': 32}, {'a': 15, 'b': 30}, {'a': 14, 'b': 28}, {'a': 13, 'b': 26}, {'a': 12, 'b': 24}, {'a': 11, 'b': 22}, {'a': 10, 'b': 20}, {'a': 9, 'b': 18}, {'a': 8, 'b': 16}, {'a': 7, 'b': 14}, {'a': 6, 'b': 12}, {'a': 5, 'b': 10}, {'a': 4, 'b': 8}, {'a': 3, 'b': 6}, {'a': 2, 'b': 4}, {'a': 1, 'b': 2}, {'a': 0, 'b': 0}]\n"
     ]
    }
   ],
   "source": [
    "print(solutions)"
   ]
  },
  {
   "cell_type": "code",
   "execution_count": null,
   "id": "6dd81154",
   "metadata": {},
   "outputs": [],
   "source": []
  },
  {
   "cell_type": "markdown",
   "id": "41757d21",
   "metadata": {},
   "source": [
    "# Magic Square"
   ]
  },
  {
   "cell_type": "code",
   "execution_count": 47,
   "id": "6bd2063f",
   "metadata": {},
   "outputs": [],
   "source": [
    "def magic_square(matrix_ms):\n",
    "    iSize = len(matrix_ms[0])\n",
    "    sum_list = []\n",
    "\n",
    "    # Calculate the sum of each column\n",
    "    for col in range(iSize):\n",
    "        sum_list.append(sum(row[col] for row in matrix_ms))\n",
    "\n",
    "    # Calculate the sum of each row\n",
    "    sum_list.extend([sum(lines) for lines in matrix_ms])\n",
    "\n",
    "    # Calculate the sum of the main diagonal\n",
    "    dlResult = 0\n",
    "    for i in range(0, iSize):\n",
    "        dlResult += matrix_ms[i][i]\n",
    "    sum_list.append(dlResult)\n",
    "\n",
    "    # Calculate the sum of the other diagonal\n",
    "    drResult = 0\n",
    "    for i in range(iSize - 1, -1, -1):\n",
    "        drResult += matrix_ms[i][i]\n",
    "    sum_list.append(drResult)\n",
    "\n",
    "    # Check if all sums are equal\n",
    "    return len(set(sum_list)) == 1"
   ]
  },
  {
   "cell_type": "code",
   "execution_count": 48,
   "id": "6f656531",
   "metadata": {},
   "outputs": [
    {
     "name": "stdout",
     "output_type": "stream",
     "text": [
      "False\n"
     ]
    }
   ],
   "source": [
    "# Example usage:\n",
    "print(magic_square([[1, 2, 3], [4, 5, 6], [7, 8, 9]]))\n"
   ]
  },
  {
   "cell_type": "code",
   "execution_count": 50,
   "id": "1ed2aab5",
   "metadata": {},
   "outputs": [
    {
     "name": "stdout",
     "output_type": "stream",
     "text": [
      "True\n"
     ]
    }
   ],
   "source": [
    "# Example usage:\n",
    "print(magic_square([[8,1,6], [3,5,7], [4,9,2]]))"
   ]
  },
  {
   "cell_type": "code",
   "execution_count": null,
   "id": "04c8a4f6",
   "metadata": {},
   "outputs": [],
   "source": [
    "# Example usage:\n",
    "print(magic_square([[16,2,3,13],[5,11,10,8],[9,7,6,]]))"
   ]
  }
 ],
 "metadata": {
  "kernelspec": {
   "display_name": "newpython",
   "language": "python",
   "name": "newpython"
  },
  "language_info": {
   "codemirror_mode": {
    "name": "ipython",
    "version": 3
   },
   "file_extension": ".py",
   "mimetype": "text/x-python",
   "name": "python",
   "nbconvert_exporter": "python",
   "pygments_lexer": "ipython3",
   "version": "3.10.13"
  }
 },
 "nbformat": 4,
 "nbformat_minor": 5
}
